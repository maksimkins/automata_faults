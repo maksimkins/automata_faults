{
 "cells": [
  {
   "cell_type": "code",
   "execution_count": 38,
   "id": "cdd9abc1",
   "metadata": {},
   "outputs": [],
   "source": [
    "Q = ['q0', 'q1', 'q2']\n",
    "A = ['0', '1']\n",
    "B = ['0', '1']\n",
    "phi = {\n",
    "    ('q0', A[0]): 'q0',\n",
    "    ('q0', A[1]): 'q1',\n",
    "    ('q1', A[0]): 'q1',\n",
    "    ('q1', A[1]): 'q2',\n",
    "    ('q2', A[0]): 'q2',  \n",
    "    ('q2', A[1]): 'q2', \n",
    "\n",
    "\n",
    "}\n",
    "\n",
    "psi = {\n",
    "    ('q0', A[0]): B[1],\n",
    "    ('q0', A[1]): B[1],\n",
    "    ('q1', A[0]): B[1],\n",
    "    ('q1', A[1]): B[1],\n",
    "    ('q2', A[0]): B[0],\n",
    "    ('q2', A[1]): B[0],\n",
    "\n",
    "}\n",
    "q_start = 'q0'"
   ]
  },
  {
   "cell_type": "code",
   "execution_count": 39,
   "id": "abda2c52",
   "metadata": {},
   "outputs": [],
   "source": [
    "schema_encoding = {\n",
    "    # 'a1': '1',\n",
    "    # 'a2': '01',\n",
    "    # 'a3': '100',\n",
    "    # 'a4': '0100',\n",
    "    # 'a5': '0000',\n",
    "\n",
    "    'a1': '01',\n",
    "    'a2': '010101',\n",
    "}\n"
   ]
  },
  {
   "cell_type": "code",
   "execution_count": 40,
   "id": "fe50f36d",
   "metadata": {},
   "outputs": [],
   "source": [
    "def build_encoding_source(schema_encoding):\n",
    "    edges = []\n",
    "    vertexes = [('', '')]\n",
    "    seen = set(vertexes)\n",
    "\n",
    "    for v in vertexes:\n",
    "        len_v0 = len(v[0])\n",
    "        len_v1 = len(v[1])\n",
    "        for a1, a1_encoding in schema_encoding.items():\n",
    "            a1_encoding_len = len(a1_encoding)\n",
    "\n",
    "            if len_v0 > len_v1 and a1_encoding_len >= len_v0:\n",
    "                new_v0 = ''\n",
    "                new_v1 = a1_encoding[len_v0:]\n",
    "                if (new_v0, new_v1) not in seen: \n",
    "                    vertexes.append((new_v0, new_v1))\n",
    "                    seen.add((new_v0, new_v1))\n",
    "                edges.append((v, (new_v0, new_v1), ('', a1)))\n",
    "\n",
    "            elif len_v0 <= len_v1 and a1_encoding_len >= len_v1:\n",
    "                new_v1 = ''\n",
    "                new_v0 = a1_encoding[len_v1:]\n",
    "                if (new_v0, new_v1) not in seen: \n",
    "                    vertexes.append((new_v0, new_v1))\n",
    "                    seen.add((new_v0, new_v1))\n",
    "                edges.append((v, (new_v0, new_v1), (a1, '')))      \n",
    "\n",
    "\n",
    "    return vertexes, edges \n"
   ]
  },
  {
   "cell_type": "code",
   "execution_count": 41,
   "id": "dd86cd1e",
   "metadata": {},
   "outputs": [
    {
     "name": "stdout",
     "output_type": "stream",
     "text": [
      "vertexes: [('', ''), ('01', ''), ('010101', ''), ('', '0101')] \n",
      "\n",
      "('', '') -> ('01', '') weight: ('a1', '')\n",
      "('', '') -> ('010101', '') weight: ('a2', '')\n",
      "('01', '') -> ('', '') weight: ('', 'a1')\n",
      "('01', '') -> ('', '0101') weight: ('', 'a2')\n",
      "('010101', '') -> ('', '') weight: ('', 'a2')\n",
      "('', '0101') -> ('01', '') weight: ('a2', '')\n"
     ]
    }
   ],
   "source": [
    "vertexes, edges = build_encoding_source(schema_encoding)\n",
    "print('vertexes:', vertexes, '\\n')\n",
    "for e in edges:\n",
    "    print(e[0], '->', e[1], 'weight:', e[2])"
   ]
  }
 ],
 "metadata": {
  "kernelspec": {
   "display_name": ".venv",
   "language": "python",
   "name": "python3"
  },
  "language_info": {
   "codemirror_mode": {
    "name": "ipython",
    "version": 3
   },
   "file_extension": ".py",
   "mimetype": "text/x-python",
   "name": "python",
   "nbconvert_exporter": "python",
   "pygments_lexer": "ipython3",
   "version": "3.11.0"
  }
 },
 "nbformat": 4,
 "nbformat_minor": 5
}
