{
 "cells": [
  {
   "cell_type": "code",
   "execution_count": 1,
   "id": "985683b5",
   "metadata": {},
   "outputs": [],
   "source": [
    "from automata import *"
   ]
  },
  {
   "cell_type": "code",
   "execution_count": null,
   "id": "7bf8fdee",
   "metadata": {},
   "outputs": [],
   "source": [
    "Q = ['q0', 'q1', 'q2']#'q1', 'q2'\n",
    "A = ['a1', 'a2', ] #'a3'\n",
    "B = ['0', '1']\n",
    "phi = {\n",
    "    ('q0', A[0]): 'q0',\n",
    "    ('q0', A[1]): 'q1',#'q1',\n",
    "    #('q0', A[2]): 'q1',\n",
    "\n",
    "    ('q1', A[0]): 'q1',\n",
    "    ('q1', A[1]): 'q2',\n",
    "    #('q1', A[2]): 'q2',\n",
    "#\n",
    "    ('q2', A[0]): 'q2',  \n",
    "    ('q2', A[1]): 'q2', \n",
    "    #('q2', A[2]): 'q2', \n",
    "\n",
    "\n",
    "}\n",
    "\n",
    "psi = {\n",
    "    ('q0', A[0]): B[1],\n",
    "    ('q0', A[1]): B[0],\n",
    "    #('q0', A[2]): B[1],\n",
    "#\n",
    "    ('q1', A[0]): B[0],\n",
    "    ('q1', A[1]): B[0],\n",
    "    #('q1', A[2]): B[1],\n",
    "#\n",
    "    ('q2', A[0]): B[0],\n",
    "    ('q2', A[1]): B[1],\n",
    "    #('q2', A[2]): B[0],\n",
    "\n",
    "}\n",
    "q_start = 'q0'"
   ]
  },
  {
   "cell_type": "code",
   "execution_count": null,
   "id": "4bab6fd1",
   "metadata": {},
   "outputs": [],
   "source": [
    "schema_encoding = {\n",
    "    # 'a1': '1',\n",
    "    # 'a2': '01',\n",
    "    # 'a3': '100',\n",
    "    # 'a4': '0100',\n",
    "    # 'a5': '0000',\n",
    "\n",
    "    #A[0]: '01',\n",
    "    #A[1]: '0101',\n",
    "    #A[2]: '010101',\n",
    "\n",
    "    'a1': '0',\n",
    "    'a2': '1',\n",
    "    #'a3': '000',\n",
    "}\n"
   ]
  },
  {
   "cell_type": "code",
   "execution_count": null,
   "id": "1c624cd3",
   "metadata": {},
   "outputs": [],
   "source": []
  }
 ],
 "metadata": {
  "kernelspec": {
   "display_name": ".venv",
   "language": "python",
   "name": "python3"
  },
  "language_info": {
   "codemirror_mode": {
    "name": "ipython",
    "version": 3
   },
   "file_extension": ".py",
   "mimetype": "text/x-python",
   "name": "python",
   "nbconvert_exporter": "python",
   "pygments_lexer": "ipython3",
   "version": "3.11.0"
  }
 },
 "nbformat": 4,
 "nbformat_minor": 5
}
