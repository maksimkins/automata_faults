{
 "cells": [
  {
   "cell_type": "code",
   "execution_count": 51,
   "id": "985683b5",
   "metadata": {},
   "outputs": [],
   "source": [
    "from automata import *"
   ]
  },
  {
   "cell_type": "code",
   "execution_count": 52,
   "id": "7bf8fdee",
   "metadata": {},
   "outputs": [],
   "source": [
    "Q = ['q0', 'q1', 'q2']#'q1', 'q2'\n",
    "A = ['a1', 'a2', ] #'a3'\n",
    "B = ['0', '1']\n",
    "phi = {\n",
    "    ('q0', A[0]): 'q0',\n",
    "    ('q0', A[1]): 'q1',#'q1',\n",
    "    #('q0', A[2]): 'q1',\n",
    "\n",
    "    ('q1', A[0]): 'q1',\n",
    "    ('q1', A[1]): 'q2',\n",
    "    #('q1', A[2]): 'q2',\n",
    "#\n",
    "    ('q2', A[0]): 'q2',  \n",
    "    ('q2', A[1]): 'q2', \n",
    "    #('q2', A[2]): 'q2', \n",
    "\n",
    "\n",
    "}\n",
    "\n",
    "psi = {\n",
    "    ('q0', A[0]): B[1],\n",
    "    ('q0', A[1]): B[0],\n",
    "    #('q0', A[2]): B[1],\n",
    "#\n",
    "    ('q1', A[0]): B[0],\n",
    "    ('q1', A[1]): B[0],\n",
    "    #('q1', A[2]): B[1],\n",
    "#\n",
    "    ('q2', A[0]): B[0],\n",
    "    ('q2', A[1]): B[1],\n",
    "    #('q2', A[2]): B[0],\n",
    "\n",
    "}\n",
    "q_start = 'q0'"
   ]
  },
  {
   "cell_type": "code",
   "execution_count": 53,
   "id": "4bab6fd1",
   "metadata": {},
   "outputs": [],
   "source": [
    "schema_encoding = {\n",
    "    # 'a1': '1',\n",
    "    # 'a2': '01',\n",
    "    # 'a3': '100',\n",
    "    # 'a4': '0100',\n",
    "    # 'a5': '0000',\n",
    "\n",
    "    #A[0]: '01',\n",
    "    #A[1]: '0101',\n",
    "    #A[2]: '010101',\n",
    "\n",
    "    'a1': '0',\n",
    "    'a2': '1',\n",
    "    #'a3': '000',\n",
    "}\n"
   ]
  },
  {
   "cell_type": "code",
   "execution_count": 54,
   "id": "1c624cd3",
   "metadata": {},
   "outputs": [],
   "source": [
    "def number_of_fault_diagnostics(schema_encoding, A, B, Q, phi, psi, q_start): #отдельная неисправность если не однозначна или нет?\n",
    "\n",
    "    if not is_minimized(Q, A, phi, psi, q_start) or is_automata_ambiguous(schema_encoding, A, B, Q, phi, psi, q_start):\n",
    "        print('initial automata is not minimized or ambiguous')\n",
    "        return 0\n",
    "\n",
    "    faults_count = 0\n",
    "    for key in psi:\n",
    "        copy_psi = psi.copy()\n",
    "        copy_psi[key] = B[0] if copy_psi[key] == B[1] else B[1]\n",
    "        if not is_minimized(Q, A, phi, copy_psi, q_start) or is_automata_ambiguous(schema_encoding, A, B, Q, phi, copy_psi, q_start):\n",
    "            faults_count += 1\n",
    "            \n",
    "    return faults_count\n"
   ]
  },
  {
   "cell_type": "code",
   "execution_count": 55,
   "id": "0befed2b",
   "metadata": {},
   "outputs": [],
   "source": [
    "def is_fault_happened(schema_encoding, A, B, Q, phi, psi, q_start):\n",
    "    is_correct = is_minimized(Q, A, phi, psi, q_start) and not is_automata_ambiguous(schema_encoding, A, B, Q, phi, psi, q_start)\n",
    "    not_correct_count = 0 \n",
    "    correct_count = 0\n",
    "    psi_keys = set()\n",
    "    for key in psi:\n",
    "        copy_psi = psi.copy()\n",
    "        copy_psi[key] = B[0] if copy_psi[key] == B[1] else B[1]\n",
    "\n",
    "        if is_minimized(Q, A, phi, copy_psi, q_start) or not is_automata_ambiguous(schema_encoding, A, B, Q, phi, copy_psi, q_start):\n",
    "            if is_correct:\n",
    "                print('as initial automata is  correct and we found fault that creates another correct automata that means we can not say that fault is happened')\n",
    "                return None\n",
    "            else:\n",
    "                correct_count += 1 \n",
    "                if correct_count > 1:\n",
    "                    print('we found more than one fault that creates correct automata')\n",
    "                    return None\n",
    "        else:\n",
    "            not_correct_count += 1\n",
    "            psi_keys.add(key)\n",
    "                \n",
    "\n",
    "    if is_correct:\n",
    "        if correct_count == 0:\n",
    "            print('there is no fault happened')\n",
    "            return False\n",
    "        else:\n",
    "            print('we found fault that creates uncorrect automata:', psi_keys)\n",
    "            return True\n",
    "    else:\n",
    "        if correct_count == 1:\n",
    "            print('there is no fault happened')\n",
    "            return False\n",
    "        else:\n",
    "            print('we can say nothing as initial automata is incorrect and there in more than one correct automata or zero correct automata')\n",
    "            return None\n"
   ]
  },
  {
   "cell_type": "code",
   "execution_count": 56,
   "id": "60ff4d0d",
   "metadata": {},
   "outputs": [
    {
     "name": "stdout",
     "output_type": "stream",
     "text": [
      "number of faults that can be diagnosed: 2\n"
     ]
    }
   ],
   "source": [
    "res = number_of_fault_diagnostics(schema_encoding, A, B, Q, phi, psi, q_start)\n",
    "print('number of faults that can be diagnosed:', res)"
   ]
  },
  {
   "cell_type": "code",
   "execution_count": 57,
   "id": "3bdd402b",
   "metadata": {},
   "outputs": [
    {
     "name": "stdout",
     "output_type": "stream",
     "text": [
      "as initial automata is  correct and we found fault that creates another correct automata that means we can not say that fault is happened\n",
      "None\n"
     ]
    }
   ],
   "source": [
    "res = is_fault_happened(schema_encoding, A, B, Q, phi, psi, q_start)\n",
    "print(res)"
   ]
  }
 ],
 "metadata": {
  "kernelspec": {
   "display_name": ".venv",
   "language": "python",
   "name": "python3"
  },
  "language_info": {
   "codemirror_mode": {
    "name": "ipython",
    "version": 3
   },
   "file_extension": ".py",
   "mimetype": "text/x-python",
   "name": "python",
   "nbconvert_exporter": "python",
   "pygments_lexer": "ipython3",
   "version": "3.11.0"
  }
 },
 "nbformat": 4,
 "nbformat_minor": 5
}
