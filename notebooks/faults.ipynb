{
 "cells": [
  {
   "cell_type": "code",
   "execution_count": 80,
   "id": "985683b5",
   "metadata": {},
   "outputs": [],
   "source": [
    "from automata import *\n",
    "import json"
   ]
  },
  {
   "cell_type": "code",
   "execution_count": 81,
   "id": "7bf8fdee",
   "metadata": {},
   "outputs": [],
   "source": [
    "Q = ['q0', 'q1', 'q2']#'q1', 'q2'\n",
    "A = ['a1', 'a2', ] #'a3'\n",
    "B = ['0', '1']\n",
    "phi = {\n",
    "    ('q0', A[0]): 'q0',\n",
    "    ('q0', A[1]): 'q1',#'q1',\n",
    "    #('q0', A[2]): 'q1',\n",
    "\n",
    "    ('q1', A[0]): 'q2',\n",
    "    ('q1', A[1]): 'q2',\n",
    "    #('q1', A[2]): 'q2',\n",
    "#\n",
    "    ('q2', A[0]): 'q2',  \n",
    "    ('q2', A[1]): 'q2', \n",
    "    #('q2', A[2]): 'q2', \n",
    "\n",
    "\n",
    "}\n",
    "\n",
    "psi = {\n",
    "    ('q0', A[0]): B[0],\n",
    "    ('q0', A[1]): B[1],\n",
    "    #('q0', A[2]): B[1],\n",
    "#\n",
    "    ('q1', A[0]): B[0],\n",
    "    ('q1', A[1]): B[1],\n",
    "    #('q1', A[2]): B[1],\n",
    "#\n",
    "    ('q2', A[0]): B[0],\n",
    "    ('q2', A[1]): B[0],\n",
    "    #('q2', A[2]): B[0],\n",
    "\n",
    "}\n",
    "q_start = 'q0'"
   ]
  },
  {
   "cell_type": "code",
   "execution_count": 82,
   "id": "4bab6fd1",
   "metadata": {},
   "outputs": [],
   "source": [
    "schema_encoding = {\n",
    "\n",
    "    'a1': '00000',\n",
    "    'a2': '000',\n",
    "\n",
    "}\n"
   ]
  },
  {
   "cell_type": "code",
   "execution_count": 83,
   "id": "2ec87af9",
   "metadata": {},
   "outputs": [
    {
     "name": "stdout",
     "output_type": "stream",
     "text": [
      "['q0', 'q1', 'q2'] ['a1', 'a2'] ['0', '1'] {('q0', 'a1'): 'q0', ('q0', 'a2'): 'q1', ('q1', 'a1'): 'q2', ('q1', 'a2'): 'q2', ('q2', 'a1'): 'q2', ('q2', 'a2'): 'q2'} {('q0', 'a1'): '1', ('q0', 'a2'): '1', ('q1', 'a1'): '0', ('q1', 'a2'): '1', ('q2', 'a1'): '0', ('q2', 'a2'): '0'} q0\n"
     ]
    }
   ],
   "source": [
    "def load_automaton_from_json(file_path):\n",
    "    with open(file_path, 'r') as f:\n",
    "        data = json.load(f)\n",
    "\n",
    "    Q = data.get('Q')\n",
    "    A = data.get('A')\n",
    "    B = data.get('B')\n",
    "    phi_raw = data.get('phi')\n",
    "    psi_raw = data.get('psi')\n",
    "    q_start = data.get('q_start')\n",
    "\n",
    "  \n",
    "    if not isinstance(Q, list) or not all(isinstance(q, str) for q in Q):\n",
    "        raise ValueError(\"Q must be a list of strings.\")\n",
    "    if not isinstance(A, list) or not all(isinstance(a, str) for a in A):\n",
    "        raise ValueError(\"A must be a list of strings.\")\n",
    "    if B != ['0', '1']:\n",
    "        raise ValueError(\"B must be exactly ['0', '1'].\")\n",
    "    if q_start not in Q:\n",
    "        raise ValueError(\"q_start must be one of the states in Q.\")\n",
    "\n",
    "    phi = {}\n",
    "    psi = {}\n",
    "    expected_keys = {(q, a) for q in Q for a in A}\n",
    "\n",
    "    for key_str, val in phi_raw.items():\n",
    "        key = tuple(k.strip() for k in key_str.strip(\"()\").split(\",\"))\n",
    "        if len(key) != 2 or key[0] not in Q or key[1] not in A:\n",
    "            raise ValueError(f\"Invalid key in phi: {key}\")\n",
    "        if val not in Q:\n",
    "            raise ValueError(f\"Invalid state target in phi({key}): {val}\")\n",
    "        phi[(key[0], key[1])] = val\n",
    "\n",
    "    for key_str, val in psi_raw.items():\n",
    "        key = tuple(k.strip() for k in key_str.strip(\"()\").split(\",\"))\n",
    "        if len(key) != 2 or key[0] not in Q or key[1] not in A:\n",
    "            raise ValueError(f\"Invalid key in psi: {key}\")\n",
    "        if val not in B:\n",
    "            raise ValueError(f\"Invalid output symbol in psi({key}): {val}\")\n",
    "        psi[(key[0], key[1])] = val\n",
    "\n",
    "    for q in Q:\n",
    "        for a in A:\n",
    "            if (q, a) not in phi:\n",
    "                raise ValueError(f\"Missing transition in phi for state {q} and symbol {a}\")\n",
    "            if (q, a) not in psi:\n",
    "                raise ValueError(f\"Missing transition in psi for state {q} and symbol {a}\")\n",
    "\n",
    "    return Q, A, B, phi, psi, q_start\n",
    "\n",
    "Q, A, B, phi, psi, q_start = load_automaton_from_json('../data/automata.json')\n",
    "print(Q, A, B, phi, psi, q_start)\n"
   ]
  },
  {
   "cell_type": "code",
   "execution_count": null,
   "id": "f2b29ee4",
   "metadata": {},
   "outputs": [
    {
     "name": "stdout",
     "output_type": "stream",
     "text": [
      "{'a1': '00000', 'a2': '000'}\n"
     ]
    }
   ],
   "source": [
    "def load_schema_encoding(filename, A):\n",
    "    with open(filename, 'r') as f:\n",
    "        schema_encoding = json.load(f)\n",
    "\n",
    "    if not isinstance(schema_encoding, dict):\n",
    "        raise ValueError(\"Encoding must be a dictionary.\")\n",
    "\n",
    "    keys = set(schema_encoding.keys())\n",
    "    expected = set(A)\n",
    "\n",
    "    if keys != expected:\n",
    "        missing = expected - keys\n",
    "        extra = keys - expected\n",
    "        msg = []\n",
    "        if missing:\n",
    "            msg.append(f\"Missing keys: {missing}\")\n",
    "        if extra:\n",
    "            msg.append(f\"Unexpected keys: {extra}\")\n",
    "        raise ValueError(\"Invalid encoding keys. \" + \"; \".join(msg))\n",
    "\n",
    "    for k, v in schema_encoding.items():\n",
    "        if not isinstance(v, str):\n",
    "            raise ValueError(f\"Encoding for {k} must be a string.\")\n",
    "\n",
    "    return schema_encoding\n",
    "\n",
    "schema_encoding = load_schema_encoding('../data/schema_encoding.json', A)\n",
    "print(schema_encoding)"
   ]
  },
  {
   "cell_type": "code",
   "execution_count": null,
   "id": "1c624cd3",
   "metadata": {},
   "outputs": [],
   "source": [
    "def number_of_fault_diagnostics(schema_encoding, A, B, Q, phi, psi, q_start): \n",
    "\n",
    "    if not is_minimized(Q, A, phi, psi, q_start) or is_automata_ambiguous(schema_encoding, A, B, Q, phi, psi, q_start):\n",
    "        print('initial automata is not minimized or ambiguous')\n",
    "        return 0\n",
    "\n",
    "    faults_count = 0\n",
    "    for key in psi:\n",
    "        copy_psi = psi.copy()\n",
    "        copy_psi[key] = B[0] if copy_psi[key] == B[1] else B[1]\n",
    "\n",
    "        not_minimized = not is_minimized(Q, A, phi, copy_psi, q_start)\n",
    "        ambigious = is_automata_ambiguous(schema_encoding, A, B, Q, phi, copy_psi, q_start)\n",
    "        if  not_minimized or ambigious:\n",
    "            print(\"not_minimized = \", not_minimized, '; ambigious = ', ambigious, '; key = ', key)\n",
    "            faults_count += 1\n",
    "            \n",
    "    return faults_count\n"
   ]
  },
  {
   "cell_type": "code",
   "execution_count": 86,
   "id": "0befed2b",
   "metadata": {},
   "outputs": [],
   "source": [
    "def is_fault_happened(schema_encoding, A, B, Q, phi, psi, q_start):\n",
    "    is_initial_correct = is_minimized(Q, A, phi, psi, q_start) and not is_automata_ambiguous(schema_encoding, A, B, Q, phi, psi, q_start)\n",
    "    brake_to_create_correct = set()\n",
    "    for key in psi:\n",
    "        copy_psi = psi.copy()\n",
    "        copy_psi[key] = B[0] if copy_psi[key] == B[1] else B[1]\n",
    "\n",
    "        if is_minimized(Q, A, phi, copy_psi, q_start) or not is_automata_ambiguous(schema_encoding, A, B, Q, phi, copy_psi, q_start):\n",
    "            brake_to_create_correct.add(key)\n",
    "                     \n",
    "    brake_to_create_correct_len = len(brake_to_create_correct)\n",
    "\n",
    "    if is_initial_correct:\n",
    "        if brake_to_create_correct_len == 0:\n",
    "            print('no fault happened')\n",
    "            return False\n",
    "        else:\n",
    "            print('as initial automata is correct and we found broken automata those are also correct, we cannot say if fault happened or not')\n",
    "            return None\n",
    "    else:\n",
    "        if brake_to_create_correct_len == 0:\n",
    "            print('invalid input automata')\n",
    "            return None\n",
    "        elif brake_to_create_correct_len == 1:\n",
    "            print('we can say that fault happened, and where it is happened: ', brake_to_create_correct)\n",
    "            return True\n",
    "        else:\n",
    "            print('we can say that fault happened, but no information about where it could be (more than 1 correct broken automata found): ', brake_to_create_correct)\n",
    "            return True\n"
   ]
  },
  {
   "cell_type": "code",
   "execution_count": 87,
   "id": "60ff4d0d",
   "metadata": {},
   "outputs": [
    {
     "name": "stdout",
     "output_type": "stream",
     "text": [
      "not_minimized =  False ; ambigious =  True ; key =  ('q1', 'a1')\n",
      "not_minimized =  True ; ambigious =  False ; key =  ('q1', 'a2')\n",
      "not_minimized =  False ; ambigious =  True ; key =  ('q2', 'a1')\n",
      "not_minimized =  True ; ambigious =  True ; key =  ('q2', 'a2')\n",
      "number of faults that can be diagnosed: 4\n"
     ]
    }
   ],
   "source": [
    "res = number_of_fault_diagnostics(schema_encoding, A, B, Q, phi, psi, q_start)\n",
    "print('number of faults that can be diagnosed:', res)"
   ]
  },
  {
   "cell_type": "code",
   "execution_count": 88,
   "id": "3bdd402b",
   "metadata": {},
   "outputs": [
    {
     "name": "stdout",
     "output_type": "stream",
     "text": [
      "as initial automata is correct and we found broken automata those are also correct, we cannot say if fault happened or not\n",
      "None\n"
     ]
    }
   ],
   "source": [
    "res = is_fault_happened(schema_encoding, A, B, Q, phi, psi, q_start)\n",
    "print(res)"
   ]
  }
 ],
 "metadata": {
  "kernelspec": {
   "display_name": ".venv",
   "language": "python",
   "name": "python3"
  },
  "language_info": {
   "codemirror_mode": {
    "name": "ipython",
    "version": 3
   },
   "file_extension": ".py",
   "mimetype": "text/x-python",
   "name": "python",
   "nbconvert_exporter": "python",
   "pygments_lexer": "ipython3",
   "version": "3.11.0"
  }
 },
 "nbformat": 4,
 "nbformat_minor": 5
}
