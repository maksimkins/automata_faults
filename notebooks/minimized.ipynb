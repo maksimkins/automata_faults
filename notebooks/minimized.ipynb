{
 "cells": [
  {
   "cell_type": "code",
   "execution_count": 145,
   "metadata": {},
   "outputs": [],
   "source": [
    "from itertools import combinations"
   ]
  },
  {
   "cell_type": "code",
   "execution_count": 146,
   "metadata": {},
   "outputs": [],
   "source": [
    "Q = ['q0', 'q1', 'q2']\n",
    "A = ['0', '1']\n",
    "B = ['0', '1']\n",
    "phi = {\n",
    "    ('q0', A[0]): 'q1',\n",
    "    ('q0', A[1]): 'q1',\n",
    "    ('q1', A[0]): 'q1',\n",
    "    ('q1', A[1]): 'q2',\n",
    "    ('q2', A[0]): 'q1',  \n",
    "    ('q2', A[1]): 'q2', \n",
    "\n",
    "\n",
    "}\n",
    "\n",
    "psi = {\n",
    "    ('q0', A[0]): B[0],\n",
    "    ('q0', A[1]): B[0],\n",
    "    ('q1', A[0]): B[0],\n",
    "    ('q1', A[1]): B[0],\n",
    "    ('q2', A[0]): B[0],\n",
    "    ('q2', A[1]): B[0],\n",
    "\n",
    "}\n",
    "q_start = 'q0'\n"
   ]
  },
  {
   "cell_type": "code",
   "execution_count": 147,
   "metadata": {},
   "outputs": [],
   "source": [
    "def AnyUnreachableStates(phi, A, Q, q_start):\n",
    "    visited = set()\n",
    "    to_check = [q_start]\n",
    "\n",
    "    while to_check:\n",
    "        state = to_check.pop()\n",
    "        visited.add(state)\n",
    "        for a in A:\n",
    "            to_check_state = phi[(state, a)] \n",
    "            if to_check_state not in visited:\n",
    "                visited.add(to_check_state)\n",
    "                to_check.append(to_check_state)\n",
    "    \n",
    "    return len(visited) != len(Q)\n",
    "    "
   ]
  },
  {
   "cell_type": "code",
   "execution_count": 148,
   "metadata": {},
   "outputs": [],
   "source": [
    "def StatesEquivalentRec(A, phi, psi, q0, q1, Q_length, word_len = 0, word = ''): \n",
    "    word_len += 1\n",
    "    for a in A:\n",
    "        exit_q0_symbol, exit_q1_symbol = psi[(q0, a)], psi[(q1, a)]\n",
    "        new_q0, new_q1 = phi[(q0, a)], phi[(q1, a)]\n",
    "        new_word = word + str(a)\n",
    "\n",
    "        #print('\\nenter_symbol:', a)\n",
    "        #print('word:', new_word)\n",
    "        #print('exit_q0_symbol:', exit_q0_symbol, 'exit_q1_symbol:', exit_q1_symbol)\n",
    "        #print('new_q0:', new_q0, 'new_q1:', new_q1)\n",
    "\n",
    "        if exit_q0_symbol != exit_q1_symbol:\n",
    "            print(new_word, '- word that indicates that states are not equivalent')\n",
    "            return False\n",
    "        if word_len < Q_length - 1: \n",
    "            res = StatesEquivalentRec(A, phi, psi, new_q0, new_q1, Q_length, word_len, new_word)\n",
    "            if res == False: return False\n",
    "\n",
    "    return True"
   ]
  },
  {
   "cell_type": "code",
   "execution_count": 149,
   "metadata": {},
   "outputs": [],
   "source": [
    "\n",
    "def AnyEquivalentStates(Q, A, phi, psi):\n",
    "    len_Q = len(Q)\n",
    "    for q0, q1 in combinations(Q, 2):\n",
    "        if StatesEquivalentRec(A, phi, psi, q0, q1, len_Q):\n",
    "            return True\n",
    "        print('states', q0, 'and', q1, 'are not equivalent')\n",
    "    \n",
    "    return False\n",
    "        "
   ]
  },
  {
   "cell_type": "code",
   "execution_count": 150,
   "metadata": {},
   "outputs": [],
   "source": [
    "def IsMinimized(Q, A, phi, psi, q_start):\n",
    "    \n",
    "    if AnyUnreachableStates(phi, A, Q, q_start):\n",
    "        return False\n",
    "    \n",
    "    if AnyEquivalentStates(Q, A, phi, psi):\n",
    "        return False\n",
    "    \n",
    "    return True"
   ]
  },
  {
   "cell_type": "code",
   "execution_count": 151,
   "metadata": {},
   "outputs": [
    {
     "name": "stdout",
     "output_type": "stream",
     "text": [
      "False\n"
     ]
    }
   ],
   "source": [
    "res = AnyUnreachableStates(phi, A, Q, q_start)\n",
    "print(res)"
   ]
  },
  {
   "cell_type": "code",
   "execution_count": 152,
   "metadata": {},
   "outputs": [
    {
     "name": "stdout",
     "output_type": "stream",
     "text": [
      "True\n"
     ]
    }
   ],
   "source": [
    "res = AnyEquivalentStates(Q, A, phi, psi)\n",
    "print(res)"
   ]
  },
  {
   "cell_type": "code",
   "execution_count": 153,
   "metadata": {},
   "outputs": [
    {
     "name": "stdout",
     "output_type": "stream",
     "text": [
      "False\n"
     ]
    }
   ],
   "source": [
    "res = IsMinimized(Q, A, phi, psi, q_start)\n",
    "print(res)"
   ]
  }
 ],
 "metadata": {
  "kernelspec": {
   "display_name": ".venv",
   "language": "python",
   "name": "python3"
  },
  "language_info": {
   "codemirror_mode": {
    "name": "ipython",
    "version": 3
   },
   "file_extension": ".py",
   "mimetype": "text/x-python",
   "name": "python",
   "nbconvert_exporter": "python",
   "pygments_lexer": "ipython3",
   "version": "3.11.0"
  }
 },
 "nbformat": 4,
 "nbformat_minor": 2
}
