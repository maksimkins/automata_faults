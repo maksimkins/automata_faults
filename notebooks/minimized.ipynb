{
 "cells": [
  {
   "cell_type": "code",
   "execution_count": 1,
   "metadata": {},
   "outputs": [],
   "source": [
    "from itertools import combinations"
   ]
  },
  {
   "cell_type": "code",
   "execution_count": 2,
   "metadata": {},
   "outputs": [],
   "source": [
    "Q = ['q0', 'q1', 'q2']#'q1', 'q2'\n",
    "A = ['0', '1', ] #'a3'\n",
    "B = ['0', '1']\n",
    "phi = {\n",
    "    ('q0', A[0]): 'q2',\n",
    "    ('q0', A[1]): 'q1',#'q1',\n",
    "    #('q0', A[2]): 'q1',\n",
    "\n",
    "    ('q1', A[0]): 'q1',\n",
    "    ('q1', A[1]): 'q2',\n",
    "    #('q1', A[2]): 'q2',\n",
    "#\n",
    "    ('q2', A[0]): 'q2',  \n",
    "    ('q2', A[1]): 'q2', \n",
    "    #('q2', A[2]): 'q2', \n",
    "\n",
    "\n",
    "}\n",
    "\n",
    "psi = {\n",
    "    ('q0', A[0]): B[1],\n",
    "    ('q0', A[1]): B[0],\n",
    "    #('q0', A[2]): B[1],\n",
    "#\n",
    "    ('q1', A[0]): B[1],\n",
    "    ('q1', A[1]): B[0],\n",
    "    #('q1', A[2]): B[1],\n",
    "#\n",
    "    ('q2', A[0]): B[0],\n",
    "    ('q2', A[1]): B[0],\n",
    "    #('q2', A[2]): B[0],\n",
    "\n",
    "}\n",
    "q_start = 'q0'"
   ]
  },
  {
   "cell_type": "code",
   "execution_count": 3,
   "metadata": {},
   "outputs": [],
   "source": [
    "def any_unreachable_states(phi, A, Q, q_start):\n",
    "    visited = set()\n",
    "    to_check = [q_start]\n",
    " \n",
    "    while to_check: \n",
    "        state = to_check.pop() \n",
    "        visited.add(state) \n",
    "        for a in A: \n",
    "            to_check_state = phi[(state, a)] \n",
    "            if to_check_state not in visited:\n",
    "                visited.add(to_check_state) \n",
    "                to_check.append(to_check_state) \n",
    "    \n",
    "    return len(visited) != len(Q) \n",
    "# total = O(|Q| * |A|) \n",
    "    "
   ]
  },
  {
   "cell_type": "code",
   "execution_count": 4,
   "metadata": {},
   "outputs": [],
   "source": [
    "def any_equivalent_states2(psi, phi, A, Q):\n",
    "    sigs = {q: tuple(psi[(q, a)] for a in A) for q in Q}\n",
    "    part = {}\n",
    "    for i, sig in enumerate(sorted(set(sigs.values()))):\n",
    "        for q in Q:\n",
    "            if sigs[q] == sig:\n",
    "                part[q] = i\n",
    "\n",
    "\n",
    "    for _ in range(len(Q) - 1):\n",
    "        sigs = {q: tuple((part[phi[(q, a)]], psi[(q, a)]) for a in A) for q in Q}\n",
    "        new_part = {}\n",
    "        for i, sig in enumerate(sorted(set(sigs.values()))):\n",
    "            for q in Q:\n",
    "                if sigs[q] == sig:\n",
    "                    new_part[q] = i\n",
    "        if new_part == part:\n",
    "            break\n",
    "        part = new_part\n",
    "\n",
    "    return len(set(part.values())) != len(Q) # O(|Q|^2 * |A|)\n"
   ]
  },
  {
   "cell_type": "code",
   "execution_count": 5,
   "metadata": {},
   "outputs": [],
   "source": [
    "def states_equivalent_rec(A, phi, psi, q0, q1, Q_length, word_len = 0, word = ''): \n",
    "    word_len += 1\n",
    "    for a in A:\n",
    "        exit_q0_symbol, exit_q1_symbol = psi[(q0, a)], psi[(q1, a)]\n",
    "        new_q0, new_q1 = phi[(q0, a)], phi[(q1, a)]\n",
    "        new_word = word + str(a)\n",
    "\n",
    "        if exit_q0_symbol != exit_q1_symbol:\n",
    "            #print(new_word, '- word that indicates that states are not equivalent')\n",
    "            return False\n",
    "        #else:\n",
    "            #print(q0, q1, new_q0, new_q1, exit_q0_symbol, exit_q1_symbol)\n",
    "            #print(new_word)\n",
    "        if word_len < Q_length - 1: \n",
    "            res = states_equivalent_rec(A, phi, psi, new_q0, new_q1, Q_length, word_len, new_word)\n",
    "            if res == False: return False\n",
    "\n",
    "    return True\n",
    "# total = O(log(|Q|))"
   ]
  },
  {
   "cell_type": "code",
   "execution_count": 6,
   "metadata": {},
   "outputs": [],
   "source": [
    "\n",
    "def any_equivalent_states(Q, A, phi, psi):\n",
    "    len_Q = len(Q)\n",
    "    for q0, q1 in combinations(Q, 2):\n",
    "        if states_equivalent_rec(A, phi, psi, q0, q1, len_Q):\n",
    "            print('states', q0, 'and', q1, 'are equivalent')\n",
    "            return True\n",
    "        \n",
    "    \n",
    "    return False\n",
    "# total = O(C{Q,2} * log(|Q| - 1))\n",
    "        "
   ]
  },
  {
   "cell_type": "code",
   "execution_count": 7,
   "metadata": {},
   "outputs": [],
   "source": [
    "def is_minimized(Q, A, phi, psi, q_start):\n",
    "    \n",
    "    if any_unreachable_states(phi, A, Q, q_start):\n",
    "        return False\n",
    "    \n",
    "    if any_equivalent_states2(psi, phi, A, Q):\n",
    "        return False\n",
    "    \n",
    "    return True\n",
    "# total = O(|Q| * |A|) + O(|Q|^2 * |A|)"
   ]
  },
  {
   "cell_type": "code",
   "execution_count": 8,
   "metadata": {},
   "outputs": [
    {
     "name": "stdout",
     "output_type": "stream",
     "text": [
      "is there any unreachable state in automata?: False\n"
     ]
    }
   ],
   "source": [
    "res = any_unreachable_states(phi, A, Q, q_start)\n",
    "print('is there any unreachable state in automata?:', res)"
   ]
  },
  {
   "cell_type": "code",
   "execution_count": 9,
   "metadata": {},
   "outputs": [
    {
     "name": "stdout",
     "output_type": "stream",
     "text": [
      "are there any equivalent states in automata?: False False\n"
     ]
    }
   ],
   "source": [
    "res = any_equivalent_states(Q, A, phi, psi)\n",
    "res1 = any_equivalent_states2(psi, phi, A, Q)\n",
    "print('are there any equivalent states in automata?:',res, res1)"
   ]
  },
  {
   "cell_type": "code",
   "execution_count": 10,
   "metadata": {},
   "outputs": [
    {
     "name": "stdout",
     "output_type": "stream",
     "text": [
      "is automata minimized?: True\n"
     ]
    }
   ],
   "source": [
    "res = is_minimized(Q, A, phi, psi, q_start)\n",
    "print('is automata minimized?:', res)"
   ]
  }
 ],
 "metadata": {
  "kernelspec": {
   "display_name": ".venv",
   "language": "python",
   "name": "python3"
  },
  "language_info": {
   "codemirror_mode": {
    "name": "ipython",
    "version": 3
   },
   "file_extension": ".py",
   "mimetype": "text/x-python",
   "name": "python",
   "nbconvert_exporter": "python",
   "pygments_lexer": "ipython3",
   "version": "3.11.0"
  }
 },
 "nbformat": 4,
 "nbformat_minor": 2
}
